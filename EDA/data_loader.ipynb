{
 "cells": [
  {
   "cell_type": "code",
   "execution_count": 1,
   "metadata": {},
   "outputs": [
    {
     "data": {
      "text/plain": [
       "dict_keys(['Bitcoin Cash', 'Binance Coin', 'Bitcoin', 'EOS.IO', 'Ethereum Classic', 'Ethereum', 'Litecoin'])"
      ]
     },
     "execution_count": 1,
     "metadata": {},
     "output_type": "execute_result"
    }
   ],
   "source": [
    "import pandas as pd\n",
    "import numpy as np\n",
    "import json\n",
    "\n",
    "meta_file_path = \"../data/preprocess/meta_train_test_valid.json\"\n",
    "\n",
    "f = open(meta_file_path, \"r\")\n",
    "meta_train_test_info = json.load(f)\n",
    "meta_train_test_info.keys()"
   ]
  },
  {
   "cell_type": "code",
   "execution_count": 3,
   "metadata": {},
   "outputs": [
    {
     "data": {
      "text/plain": [
       "{'0': {'train': {'3': {'start': 1573473660, 'end': 1593043200},\n",
       "   '4': {'start': 1593043260, 'end': 1612612800},\n",
       "   '5': {'start': 1612612860, 'end': 1632182400}},\n",
       "  'valid': {'0': {'start': 1514764860, 'end': 1534334400},\n",
       "   '1': {'start': 1534334460, 'end': 1553904000}},\n",
       "  'test': {'2': {'start': 1553904060, 'end': 1573473600}}},\n",
       " '1': {'train': {'1': {'start': 1534334460, 'end': 1553904000},\n",
       "   '4': {'start': 1593043260, 'end': 1612612800},\n",
       "   '5': {'start': 1612612860, 'end': 1632182400}},\n",
       "  'valid': {'2': {'start': 1553904060, 'end': 1573473600}},\n",
       "  'test': {'3': {'start': 1573473660, 'end': 1593043200}}},\n",
       " '2': {'train': {'1': {'start': 1534334460, 'end': 1553904000},\n",
       "   '2': {'start': 1553904060, 'end': 1573473600},\n",
       "   '5': {'start': 1612612860, 'end': 1632182400}},\n",
       "  'valid': {'3': {'start': 1573473660, 'end': 1593043200}},\n",
       "  'test': {'4': {'start': 1593043260, 'end': 1612612800}}},\n",
       " '3': {'train': {'1': {'start': 1534334460, 'end': 1553904000},\n",
       "   '2': {'start': 1553904060, 'end': 1573473600},\n",
       "   '3': {'start': 1573473660, 'end': 1593043200}},\n",
       "  'valid': {'4': {'start': 1593043260, 'end': 1612612800}},\n",
       "  'test': {'5': {'start': 1612612860, 'end': 1632182400}}},\n",
       " '4': {'train': {'2': {'start': 1553904060, 'end': 1573473600},\n",
       "   '3': {'start': 1573473660, 'end': 1593043200},\n",
       "   '4': {'start': 1593043260, 'end': 1612612800}},\n",
       "  'valid': {'5': {'start': 1612612860, 'end': 1632182400}},\n",
       "  'test': {'1': {'start': 1534334460, 'end': 1553904000}}}}"
      ]
     },
     "execution_count": 3,
     "metadata": {},
     "output_type": "execute_result"
    }
   ],
   "source": [
    "bitcoin_meta_info = meta_train_test_info[\"Bitcoin\"]\n",
    "bitcoin_meta_info[\"cpcv_folds\"][0]"
   ]
  },
  {
   "cell_type": "code",
   "execution_count": null,
   "metadata": {},
   "outputs": [],
   "source": []
  }
 ],
 "metadata": {
  "interpreter": {
   "hash": "78e4490c75178d87f6a35f9554b58c81e1bbe086f971a7ab26df21199f6084fd"
  },
  "kernelspec": {
   "display_name": "Python 3.9.7 64-bit ('.venv': poetry)",
   "name": "python3"
  },
  "language_info": {
   "codemirror_mode": {
    "name": "ipython",
    "version": 3
   },
   "file_extension": ".py",
   "mimetype": "text/x-python",
   "name": "python",
   "nbconvert_exporter": "python",
   "pygments_lexer": "ipython3",
   "version": "3.9.7"
  },
  "orig_nbformat": 4
 },
 "nbformat": 4,
 "nbformat_minor": 2
}
