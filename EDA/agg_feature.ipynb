{
 "cells": [
  {
   "cell_type": "code",
   "execution_count": 2,
   "metadata": {},
   "outputs": [
    {
     "data": {
      "text/plain": [
       "dict_keys(['Bitcoin Cash', 'Binance Coin', 'Bitcoin', 'EOS.IO', 'Ethereum Classic', 'Ethereum', 'Litecoin'])"
      ]
     },
     "execution_count": 2,
     "metadata": {},
     "output_type": "execute_result"
    }
   ],
   "source": [
    "import pandas as pd\n",
    "import numpy as np\n",
    "import json\n",
    "import os\n",
    "import sys\n",
    "\n",
    "sys.path.append(\"..\")\n",
    "from common.constants import DATAFOLDER\n",
    "from preprocess.src.agg_feature import agg_feature\n",
    "\n",
    "meta_file_path = \"../data/preprocess/meta_train_test_valid.json\"\n",
    "\n",
    "f = open(meta_file_path, \"r\")\n",
    "meta_train_test_info = json.load(f)\n",
    "meta_train_test_info.keys()"
   ]
  },
  {
   "cell_type": "code",
   "execution_count": 4,
   "metadata": {},
   "outputs": [
    {
     "data": {
      "text/plain": [
       "{'0': {'train': {'3': {'start': 1573473660, 'end': 1593043200},\n",
       "   '4': {'start': 1593043260, 'end': 1612612800},\n",
       "   '5': {'start': 1612612860, 'end': 1632182400}},\n",
       "  'valid': {'0': {'start': 1514764860, 'end': 1534334400},\n",
       "   '1': {'start': 1534334460, 'end': 1553904000}},\n",
       "  'test': {'2': {'start': 1553904060, 'end': 1573473600}}},\n",
       " '1': {'train': {'1': {'start': 1534334460, 'end': 1553904000},\n",
       "   '4': {'start': 1593043260, 'end': 1612612800},\n",
       "   '5': {'start': 1612612860, 'end': 1632182400}},\n",
       "  'valid': {'2': {'start': 1553904060, 'end': 1573473600}},\n",
       "  'test': {'3': {'start': 1573473660, 'end': 1593043200}}},\n",
       " '2': {'train': {'1': {'start': 1534334460, 'end': 1553904000},\n",
       "   '2': {'start': 1553904060, 'end': 1573473600},\n",
       "   '5': {'start': 1612612860, 'end': 1632182400}},\n",
       "  'valid': {'3': {'start': 1573473660, 'end': 1593043200}},\n",
       "  'test': {'4': {'start': 1593043260, 'end': 1612612800}}},\n",
       " '3': {'train': {'1': {'start': 1534334460, 'end': 1553904000},\n",
       "   '2': {'start': 1553904060, 'end': 1573473600},\n",
       "   '3': {'start': 1573473660, 'end': 1593043200}},\n",
       "  'valid': {'4': {'start': 1593043260, 'end': 1612612800}},\n",
       "  'test': {'5': {'start': 1612612860, 'end': 1632182400}}},\n",
       " '4': {'train': {'2': {'start': 1553904060, 'end': 1573473600},\n",
       "   '3': {'start': 1573473660, 'end': 1593043200},\n",
       "   '4': {'start': 1593043260, 'end': 1612612800}},\n",
       "  'valid': {'5': {'start': 1612612860, 'end': 1632182400}},\n",
       "  'test': {'1': {'start': 1534334460, 'end': 1553904000}}}}"
      ]
     },
     "execution_count": 4,
     "metadata": {},
     "output_type": "execute_result"
    }
   ],
   "source": [
    "bitcoin_meta_info = meta_train_test_info[\"Bitcoin\"]\n",
    "bitcoin_meta_info[\"cpcv_folds\"][0]"
   ]
  },
  {
   "cell_type": "code",
   "execution_count": 5,
   "metadata": {},
   "outputs": [
    {
     "ename": "TypeError",
     "evalue": "agg_feature() missing 1 required positional argument: 'data_timestamps'",
     "output_type": "error",
     "traceback": [
      "\u001b[0;31m---------------------------------------------------------------------------\u001b[0m",
      "\u001b[0;31mTypeError\u001b[0m                                 Traceback (most recent call last)",
      "\u001b[0;32m/var/folders/5n/wm7h51g57cs5277hx71v2j580000gn/T/ipykernel_4486/1126655538.py\u001b[0m in \u001b[0;36m<module>\u001b[0;34m\u001b[0m\n\u001b[0;32m----> 1\u001b[0;31m \u001b[0mprint\u001b[0m\u001b[0;34m(\u001b[0m\u001b[0magg_feature\u001b[0m\u001b[0;34m(\u001b[0m\u001b[0mbitcoin_meta_info\u001b[0m\u001b[0;34m)\u001b[0m\u001b[0;34m)\u001b[0m\u001b[0;34m\u001b[0m\u001b[0;34m\u001b[0m\u001b[0m\n\u001b[0m",
      "\u001b[0;31mTypeError\u001b[0m: agg_feature() missing 1 required positional argument: 'data_timestamps'"
     ]
    }
   ],
   "source": [
    "print(agg_feature(bitcoin_meta_info))"
   ]
  },
  {
   "cell_type": "code",
   "execution_count": 23,
   "metadata": {},
   "outputs": [],
   "source": [
    "def sma10(df):\n",
    "    hilo = (df[\"High\"]+df[\"Low\"]) / 2\n",
    "    return df[\"Close\"].rolling(10).mean() / hilo\n",
    "\n",
    "\n",
    "asset_name = \"Bitcoin\"\n",
    "data_file_path = os.path.join(\n",
    "    DATAFOLDER.cleaned_data_root_path,\n",
    "    f\"{asset_name}.parquet.gzip\",\n",
    ")\n",
    "df = pd.read_parquet(data_file_path, engine=\"pyarrow\")\n",
    "target_columns = [\"Open\", \"High\", \"Low\", \"Close\", \"Volume\"]\n",
    "\n",
    "save_dir = \"./_cpcv_dataset\"\n",
    "os.makedirs(save_dir, exist_ok=True)\n",
    "save_dir = os.path.join(save_dir, asset_name)\n",
    "os.makedirs(save_dir, exist_ok=True)\n",
    "\n",
    "for cpcv_fold_idx, cpcv_fold in enumerate(bitcoin_meta_info[\"cpcv_folds\"]):\n",
    "    # _save_dir = os.path.join(save_dir, f\"fold_{cpcv_fold_idx}\")\n",
    "    # os.makedirs(_save_dir, exist_ok=True)\n",
    "\n",
    "    for senario_idx in cpcv_fold.keys():\n",
    "        # os.makedirs(os.path.join(_save_dir, f\"senario_{senario_idx}\"), exist_ok=True)\n",
    "\n",
    "        for _type in [\"train\", \"test\", \"valid\"]:\n",
    "            # _save_dir = os.path.join(_save_dir, _type)\n",
    "            _save_dir = os.path.join(save_dir, f\"fold_{cpcv_fold_idx}\", f\"senario_{senario_idx}\", _type)\n",
    "            os.makedirs(_save_dir, exist_ok=True)\n",
    "\n",
    "            for _fold_idx in cpcv_fold[senario_idx][_type]:\n",
    "                start_idx, end_idx = cpcv_fold[senario_idx][_type][_fold_idx][\"start\"], cpcv_fold[senario_idx][_type][_fold_idx][\"end\"]\n",
    "                _df = df.loc[start_idx:end_idx+1, target_columns]\n",
    "                _df[\"sma20\"] = sma10(df)\n",
    "                save_path = os.path.join(_save_dir, f\"{_fold_idx}.parquet.gzip\")\n",
    "                _df.to_parquet(save_path, engine=\"pyarrow\", compression=\"gzip\")\n",
    "                \n",
    "                "
   ]
  },
  {
   "cell_type": "code",
   "execution_count": 24,
   "metadata": {},
   "outputs": [
    {
     "data": {
      "text/html": [
       "<div>\n",
       "<style scoped>\n",
       "    .dataframe tbody tr th:only-of-type {\n",
       "        vertical-align: middle;\n",
       "    }\n",
       "\n",
       "    .dataframe tbody tr th {\n",
       "        vertical-align: top;\n",
       "    }\n",
       "\n",
       "    .dataframe thead th {\n",
       "        text-align: right;\n",
       "    }\n",
       "</style>\n",
       "<table border=\"1\" class=\"dataframe\">\n",
       "  <thead>\n",
       "    <tr style=\"text-align: right;\">\n",
       "      <th></th>\n",
       "      <th>Open</th>\n",
       "      <th>High</th>\n",
       "      <th>Low</th>\n",
       "      <th>Close</th>\n",
       "      <th>Volume</th>\n",
       "      <th>sma20</th>\n",
       "    </tr>\n",
       "    <tr>\n",
       "      <th>timestamp</th>\n",
       "      <th></th>\n",
       "      <th></th>\n",
       "      <th></th>\n",
       "      <th></th>\n",
       "      <th></th>\n",
       "      <th></th>\n",
       "    </tr>\n",
       "  </thead>\n",
       "  <tbody>\n",
       "    <tr>\n",
       "      <th>1593043260</th>\n",
       "      <td>9289.532857</td>\n",
       "      <td>9302.4000</td>\n",
       "      <td>9271.50</td>\n",
       "      <td>9280.641429</td>\n",
       "      <td>80.786189</td>\n",
       "      <td>1.000071</td>\n",
       "    </tr>\n",
       "    <tr>\n",
       "      <th>1593043320</th>\n",
       "      <td>9280.170843</td>\n",
       "      <td>9294.1159</td>\n",
       "      <td>9268.16</td>\n",
       "      <td>9279.585714</td>\n",
       "      <td>122.248807</td>\n",
       "      <td>1.000685</td>\n",
       "    </tr>\n",
       "    <tr>\n",
       "      <th>1593043380</th>\n",
       "      <td>9279.579768</td>\n",
       "      <td>9292.2000</td>\n",
       "      <td>9268.50</td>\n",
       "      <td>9279.128571</td>\n",
       "      <td>61.963587</td>\n",
       "      <td>1.000740</td>\n",
       "    </tr>\n",
       "    <tr>\n",
       "      <th>1593043440</th>\n",
       "      <td>9279.057143</td>\n",
       "      <td>9292.2000</td>\n",
       "      <td>9269.60</td>\n",
       "      <td>9278.385714</td>\n",
       "      <td>62.305825</td>\n",
       "      <td>1.000648</td>\n",
       "    </tr>\n",
       "    <tr>\n",
       "      <th>1593043500</th>\n",
       "      <td>9278.748571</td>\n",
       "      <td>9295.4000</td>\n",
       "      <td>9270.00</td>\n",
       "      <td>9282.634048</td>\n",
       "      <td>52.254924</td>\n",
       "      <td>1.000305</td>\n",
       "    </tr>\n",
       "  </tbody>\n",
       "</table>\n",
       "</div>"
      ],
      "text/plain": [
       "                   Open       High      Low        Close      Volume     sma20\n",
       "timestamp                                                                     \n",
       "1593043260  9289.532857  9302.4000  9271.50  9280.641429   80.786189  1.000071\n",
       "1593043320  9280.170843  9294.1159  9268.16  9279.585714  122.248807  1.000685\n",
       "1593043380  9279.579768  9292.2000  9268.50  9279.128571   61.963587  1.000740\n",
       "1593043440  9279.057143  9292.2000  9269.60  9278.385714   62.305825  1.000648\n",
       "1593043500  9278.748571  9295.4000  9270.00  9282.634048   52.254924  1.000305"
      ]
     },
     "execution_count": 24,
     "metadata": {},
     "output_type": "execute_result"
    }
   ],
   "source": [
    "_df.head()"
   ]
  },
  {
   "cell_type": "code",
   "execution_count": null,
   "metadata": {},
   "outputs": [],
   "source": []
  }
 ],
 "metadata": {
  "interpreter": {
   "hash": "78e4490c75178d87f6a35f9554b58c81e1bbe086f971a7ab26df21199f6084fd"
  },
  "kernelspec": {
   "display_name": "Python 3.9.7 64-bit ('.venv': poetry)",
   "name": "python3"
  },
  "language_info": {
   "codemirror_mode": {
    "name": "ipython",
    "version": 3
   },
   "file_extension": ".py",
   "mimetype": "text/x-python",
   "name": "python",
   "nbconvert_exporter": "python",
   "pygments_lexer": "ipython3",
   "version": "3.9.7"
  },
  "orig_nbformat": 4
 },
 "nbformat": 4,
 "nbformat_minor": 2
}
