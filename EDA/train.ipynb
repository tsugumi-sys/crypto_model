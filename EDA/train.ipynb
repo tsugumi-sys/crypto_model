{
 "cells": [
  {
   "cell_type": "code",
   "execution_count": 5,
   "metadata": {},
   "outputs": [],
   "source": [
    "import os\n",
    "import json\n",
    "\n",
    "upstream_directory = \"../data/preprocess/\"\n",
    "meta_cpcv_info_path = os.path.join(upstream_directory, \"meta_data.json\")\n",
    "meta_cpcv_info = open(meta_cpcv_info_path)\n",
    "meta_cpcv_info = json.load(meta_cpcv_info)"
   ]
  },
  {
   "cell_type": "code",
   "execution_count": 7,
   "metadata": {},
   "outputs": [
    {
     "name": "stdout",
     "output_type": "stream",
     "text": [
      "BTCUSDT\n"
     ]
    }
   ],
   "source": [
    "for each_asset in meta_cpcv_info:\n",
    "    coin_name = each_asset[\"coin_name\"]\n",
    "    print(coin_name)"
   ]
  },
  {
   "cell_type": "code",
   "execution_count": null,
   "metadata": {},
   "outputs": [],
   "source": []
  }
 ],
 "metadata": {
  "interpreter": {
   "hash": "78e4490c75178d87f6a35f9554b58c81e1bbe086f971a7ab26df21199f6084fd"
  },
  "kernelspec": {
   "display_name": "Python 3.9.7 64-bit ('.venv': poetry)",
   "language": "python",
   "name": "python3"
  },
  "language_info": {
   "codemirror_mode": {
    "name": "ipython",
    "version": 3
   },
   "file_extension": ".py",
   "mimetype": "text/x-python",
   "name": "python",
   "nbconvert_exporter": "python",
   "pygments_lexer": "ipython3",
   "version": "3.9.7"
  },
  "orig_nbformat": 4
 },
 "nbformat": 4,
 "nbformat_minor": 2
}
