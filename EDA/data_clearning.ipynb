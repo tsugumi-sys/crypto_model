{
 "cells": [
  {
   "cell_type": "code",
   "execution_count": 5,
   "metadata": {},
   "outputs": [],
   "source": [
    "import pandas as pd\n",
    "import sys\n",
    "import mlflow\n",
    "\n",
    "sys.path.append(\"..\")\n",
    "from common.constants import DATAFOLDER, ASSET_INFO\n",
    "from preprocess.src.extract_data import splitted_data_timestamps"
   ]
  },
  {
   "cell_type": "code",
   "execution_count": 6,
   "metadata": {},
   "outputs": [
    {
     "name": "stdout",
     "output_type": "stream",
     "text": [
      "0 326160\n",
      "1 326160\n",
      "2 326160\n",
      "3 326160\n",
      "4 326160\n",
      "5 326160\n"
     ]
    }
   ],
   "source": [
    "def splitted_data_index(n_splits: int, asset_name: str, asset_id: int):\n",
    "    data = pd.read_parquet(os.path.join(\"../data/\", f\"{asset_name}.parquet.gzip\"), engine=\"pyarrow\")\n",
    "    \n",
    "    _timestamps = data.index.values\n",
    "    split_length = len(_timestamps) // n_splits\n",
    "\n",
    "    splitted_timestamps = {}\n",
    "    first_timestamps = 0\n",
    "    for i in range(split_length, len(_timestamps), split_length):\n",
    "        splitted_timestamps[i // split_length - 1] = _timestamps[first_timestamps:i]\n",
    "        first_timestamps = i\n",
    "    splitted_timestamps[len(_timestamps)//split_length - 1] = _timestamps[first_timestamps:]\n",
    "    return {\"asset_name\": asset_name, \"asset_id\": asset_id, \"splitted_indexes\": splitted_timestamps}\n",
    "\n",
    "\n",
    "res = splitted_data_index(n_splits=6, asset_name=\"Bitcoin\", asset_id=1)\n",
    "_timestamps = res[\"splitted_indexes\"]\n",
    "\n",
    "for key in _timestamps.keys():\n",
    "    item = _timestamps[key]\n",
    "    print(key, len(item))"
   ]
  },
  {
   "cell_type": "code",
   "execution_count": 92,
   "metadata": {},
   "outputs": [
    {
     "name": "stdout",
     "output_type": "stream",
     "text": [
      "{0: {'train': [2, 3, 4, 5], 'valid': [0, 1]}, 1: {'train': [1, 3, 4, 5], 'valid': [2]}, 2: {'train': [1, 2, 4, 5], 'valid': [3]}, 3: {'train': [1, 2, 3, 5], 'valid': [4]}, 4: {'train': [1, 2, 3, 4], 'valid': [5]}}\n",
      "{0: {'train': [1, 3, 4, 5], 'valid': [0, 2]}, 1: {'train': [0, 3, 4, 5], 'valid': [1]}, 2: {'train': [0, 2, 4, 5], 'valid': [3]}, 3: {'train': [0, 2, 3, 5], 'valid': [4]}, 4: {'train': [0, 2, 3, 4], 'valid': [5]}}\n",
      "{0: {'train': [1, 2, 4, 5], 'valid': [0, 3]}, 1: {'train': [0, 2, 4, 5], 'valid': [1]}, 2: {'train': [0, 1, 4, 5], 'valid': [2]}, 3: {'train': [0, 1, 3, 5], 'valid': [4]}, 4: {'train': [0, 1, 3, 4], 'valid': [5]}}\n",
      "{0: {'train': [1, 2, 3, 5], 'valid': [0, 4]}, 1: {'train': [0, 2, 3, 5], 'valid': [1]}, 2: {'train': [0, 1, 3, 5], 'valid': [2]}, 3: {'train': [0, 1, 2, 5], 'valid': [3]}, 4: {'train': [0, 1, 2, 4], 'valid': [5]}}\n",
      "{0: {'train': [1, 2, 3, 4], 'valid': [0, 5]}, 1: {'train': [0, 2, 3, 4], 'valid': [1]}, 2: {'train': [0, 1, 3, 4], 'valid': [2]}, 3: {'train': [0, 1, 2, 4], 'valid': [3]}, 4: {'train': [0, 1, 2, 3], 'valid': [4]}}\n"
     ]
    }
   ],
   "source": [
    "import itertools\n",
    "import numpy as np\n",
    "\n",
    "folds = list(res[\"splitted_indexes\"].keys())\n",
    "n_folds = len(folds)\n",
    "n_test_folds = 2\n",
    "\n",
    "selected_fold_bounds = list(itertools.combinations(folds, n_test_folds))\n",
    "\n",
    "n_splits = 6\n",
    "num_senarios = int(len(selected_fold_bounds) / (n_splits/n_test_folds))\n",
    "\n",
    "cpcv_indexes = []\n",
    "for i in range(num_senarios):\n",
    "    _jump_indexes = list(range(num_senarios-1, 0, -1))[:i]\n",
    "    \n",
    "    while len(_jump_indexes) < num_senarios - 1:\n",
    "        _jump_indexes.append(1)\n",
    "\n",
    "    test_folds_indexes = []\n",
    "    test_folds_indexes.append(i)\n",
    "    for jump_idx, jump_val in enumerate(_jump_indexes):\n",
    "        test_folds_indexes.append(test_folds_indexes[jump_idx]+jump_val)\n",
    "    \n",
    "    _senario = {}\n",
    "    _checked_valid_fold_indexes = []\n",
    "    for idx, test_fold_index in enumerate(test_folds_indexes):\n",
    "        _senario[idx] = {\"train\": [], \"valid\": []}\n",
    "\n",
    "        for valid_fold_idx in selected_fold_bounds[test_fold_index]:\n",
    "            if valid_fold_idx not in _checked_valid_fold_indexes:\n",
    "                _senario[idx][\"valid\"].append(valid_fold_idx)\n",
    "                _checked_valid_fold_indexes.append(valid_fold_idx)\n",
    "\n",
    "        _senario[idx][\"train\"] += [v for v in range(n_folds) if v not in selected_fold_bounds[test_fold_index]]\n",
    "    print(_senario)\n",
    "    cpcv_indexes.append(_senario)\n",
    "        \n"
   ]
  },
  {
   "cell_type": "code",
   "execution_count": 104,
   "metadata": {},
   "outputs": [
    {
     "name": "stdout",
     "output_type": "stream",
     "text": [
      "==========\n",
      "x x o o o o\n",
      "? o x o o o\n",
      "? o o x o o\n",
      "? o o o x o\n",
      "? o o o o x\n",
      "==========\n",
      "x o x o o o\n",
      "o x ? o o o\n",
      "o ? o x o o\n",
      "o ? o o x o\n",
      "o ? o o o x\n",
      "==========\n",
      "x o o x o o\n",
      "o x o ? o o\n",
      "o o x ? o o\n",
      "o o ? o x o\n",
      "o o ? o o x\n",
      "==========\n",
      "x o o o x o\n",
      "o x o o ? o\n",
      "o o x o ? o\n",
      "o o o x ? o\n",
      "o o o ? o x\n",
      "==========\n",
      "x o o o o x\n",
      "o x o o o ?\n",
      "o o x o o ?\n",
      "o o o x o ?\n",
      "o o o o x ?\n"
     ]
    }
   ],
   "source": [
    "for cpcv_index in cpcv_indexes:\n",
    "    print(\"=\"*10)\n",
    "    for key in cpcv_index.keys():\n",
    "        o_x = [\"?\" for _ in range(n_folds)]\n",
    "        for train_idx in cpcv_index[key][\"train\"]:\n",
    "            o_x[train_idx] = \"o\"\n",
    "        for valid_idx in cpcv_index[key][\"valid\"]:\n",
    "            o_x[valid_idx] = \"x\"\n",
    "        print(*o_x)"
   ]
  },
  {
   "cell_type": "code",
   "execution_count": 11,
   "metadata": {},
   "outputs": [
    {
     "name": "stdout",
     "output_type": "stream",
     "text": [
      "[    0.     0.     0.     0.     0.     0.     0.     0.     0.     0.\n",
      "     0.     0.     0.     0.     0.     0.     0.     0.     0.     0.\n",
      " -1200. -1200. -1200. -1200. -1200. -1200. -1200. -1200. -1200. -1200.\n",
      " -1200. -1200. -1200. -1200. -1200. -1200. -1200. -1200. -1200. -1200.\n",
      " -1200. -1200. -1200. -1200. -1200. -1200. -1200. -1200. -1200. -1200.\n",
      " -1200. -1200. -1200. -1200. -1200. -1200. -1200. -1200. -1200. -1200.\n",
      " -1200. -1200. -1200. -1200. -1200. -1200. -1200. -1200. -1200. -1200.\n",
      " -1200. -1200. -1200. -1200. -1200. -1200. -1200. -1200. -1200. -1200.\n",
      "     0.     0.     0.     0.     0.     0.     0.     0.     0.     0.\n",
      "     0.     0.     0.     0.     0.     0.     0.     0.     0.     0.]\n"
     ]
    }
   ],
   "source": [
    "print(_data_indexes - _timestamps)"
   ]
  },
  {
   "cell_type": "code",
   "execution_count": 18,
   "metadata": {},
   "outputs": [],
   "source": [
    "coin_data = coin_data.reindex(range(coin_data.index[0],coin_data.index[-1]+60,60),method='pad')"
   ]
  },
  {
   "cell_type": "code",
   "execution_count": 21,
   "metadata": {},
   "outputs": [
    {
     "name": "stdout",
     "output_type": "stream",
     "text": [
      "1632182340\n",
      "1632182400\n"
     ]
    }
   ],
   "source": [
    "for i in range(end-60, end+60, 60):\n",
    "    print(i)"
   ]
  },
  {
   "cell_type": "code",
   "execution_count": null,
   "metadata": {},
   "outputs": [],
   "source": []
  }
 ],
 "metadata": {
  "interpreter": {
   "hash": "78e4490c75178d87f6a35f9554b58c81e1bbe086f971a7ab26df21199f6084fd"
  },
  "kernelspec": {
   "display_name": "Python 3.9.7 64-bit ('.venv': poetry)",
   "name": "python3"
  },
  "language_info": {
   "codemirror_mode": {
    "name": "ipython",
    "version": 3
   },
   "file_extension": ".py",
   "mimetype": "text/x-python",
   "name": "python",
   "nbconvert_exporter": "python",
   "pygments_lexer": "ipython3",
   "version": "3.9.7"
  },
  "orig_nbformat": 4
 },
 "nbformat": 4,
 "nbformat_minor": 2
}
