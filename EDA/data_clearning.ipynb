{
 "cells": [
  {
   "cell_type": "code",
   "execution_count": 5,
   "metadata": {},
   "outputs": [],
   "source": [
    "import pandas as pd\n",
    "import sys\n",
    "import mlflow\n",
    "\n",
    "sys.path.append(\"..\")\n",
    "from common.constants import DATAFOLDER, ASSET_INFO\n",
    "from preprocess.src.extract_data import splitted_data_timestamps"
   ]
  },
  {
   "cell_type": "code",
   "execution_count": 6,
   "metadata": {},
   "outputs": [
    {
     "name": "stdout",
     "output_type": "stream",
     "text": [
      "0 326160\n",
      "1 326160\n",
      "2 326160\n",
      "3 326160\n",
      "4 326160\n",
      "5 326160\n"
     ]
    }
   ],
   "source": [
    "def splitted_data_index(n_splits: int, asset_name: str, asset_id: int):\n",
    "    data = pd.read_parquet(os.path.join(\"../data/\", f\"{asset_name}.parquet.gzip\"), engine=\"pyarrow\")\n",
    "    \n",
    "    _timestamps = data.index.values\n",
    "    split_length = len(_timestamps) // n_splits\n",
    "\n",
    "    splitted_timestamps = {}\n",
    "    first_timestamps = 0\n",
    "    for i in range(split_length, len(_timestamps), split_length):\n",
    "        splitted_timestamps[i // split_length - 1] = _timestamps[first_timestamps:i]\n",
    "        first_timestamps = i\n",
    "    splitted_timestamps[len(_timestamps)//split_length - 1] = _timestamps[first_timestamps:]\n",
    "    return {\"asset_name\": asset_name, \"asset_id\": asset_id, \"splitted_indexes\": splitted_timestamps}\n",
    "\n",
    "\n",
    "res = splitted_data_index(n_splits=6, asset_name=\"Bitcoin\", asset_id=1)\n",
    "_timestamps = res[\"splitted_indexes\"]\n",
    "\n",
    "for key in _timestamps.keys():\n",
    "    item = _timestamps[key]\n",
    "    print(key, len(item))"
   ]
  },
  {
   "cell_type": "code",
   "execution_count": 64,
   "metadata": {},
   "outputs": [
    {
     "name": "stdout",
     "output_type": "stream",
     "text": [
      "[0, 1, 3, 6, 10] [0, 0, 0, 0, 0]\n",
      "==========\n",
      "[1, 7, 6, 10, 15] [0, 4, 0, 0, 0]\n",
      "==========\n",
      "[2, 9, 12, 14, 20] [0, 4, 3, 0, 0]\n",
      "==========\n",
      "[3, 11, 15, 20, 25] [0, 4, 3, 2, 0]\n",
      "==========\n",
      "[4, 13, 18, 24, 31] [0, 4, 3, 2, 1]\n",
      "==========\n"
     ]
    }
   ],
   "source": [
    "import itertools\n",
    "import numpy as np\n",
    "\n",
    "n_folds = list(res[\"splitted_indexes\"].keys())\n",
    "n_test_folds = 2\n",
    "\n",
    "selected_fold_bounds = list(itertools.combinations(n_folds, n_test_folds))\n",
    "\n",
    "n_splits = 6\n",
    "num_senarios = int(len(selected_fold_bounds) / (n_splits/n_test_folds))\n",
    "\n",
    "indexes = []\n",
    "for i in range(num_senarios):\n",
    "    _jump_indexes = list(range(num_senarios-1, 0, -1))[:i]\n",
    "    _indexes = {}\n",
    "\n",
    "    _jump_indexes.insert(0, 0)\n",
    "    while len(_jump_indexes) < num_senarios:\n",
    "        _jump_indexes.append(0)\n",
    "\n",
    "    _jump_indexes = \n",
    "    indexes = list(range(i, i + num_senarios))\n",
    "    \n",
    "    indexes = [x+y for x, y in zip(indexes, _jump_indexes)]\n",
    "    print(indexes, _jump_indexes)\n",
    "\n",
    "    # _jump_index = 0\n",
    "    # for j in range(num_senarios):\n",
    "    #     _indexes[j] = {}\n",
    "    #     if len(_jump_indexes) and j != 0:\n",
    "    #         # print(i+_jump_indexes[0])\n",
    "    #         _indexes[j][\"valid\"] = selected_fold_bounds[i+j+_jump_indexes[0]]\n",
    "    #         _jump_index = _jump_indexes[0]\n",
    "    #         print(i+_jump_indexes[0])\n",
    "    #         _jump_indexes.pop(0)\n",
    "    #     else:\n",
    "    #         _indexes[j][\"valid\"] = selected_fold_bounds[i+j+_jump_index]\n",
    "    #         print(i+j+_jump_index, _jump_index)\n",
    "\n",
    "    #     _indexes[j][\"train\"] = [v for v in range(0, n_splits) if v not in _indexes[j][\"valid\"]]\n",
    "    \n",
    "    print(\"=\"*10)\n",
    "    # print(_indexes)\n"
   ]
  },
  {
   "cell_type": "code",
   "execution_count": 39,
   "metadata": {},
   "outputs": [
    {
     "data": {
      "text/plain": [
       "(1, 2)"
      ]
     },
     "execution_count": 39,
     "metadata": {},
     "output_type": "execute_result"
    }
   ],
   "source": [
    "selected_fold_bounds[5]"
   ]
  },
  {
   "cell_type": "code",
   "execution_count": 11,
   "metadata": {},
   "outputs": [
    {
     "name": "stdout",
     "output_type": "stream",
     "text": [
      "[    0.     0.     0.     0.     0.     0.     0.     0.     0.     0.\n",
      "     0.     0.     0.     0.     0.     0.     0.     0.     0.     0.\n",
      " -1200. -1200. -1200. -1200. -1200. -1200. -1200. -1200. -1200. -1200.\n",
      " -1200. -1200. -1200. -1200. -1200. -1200. -1200. -1200. -1200. -1200.\n",
      " -1200. -1200. -1200. -1200. -1200. -1200. -1200. -1200. -1200. -1200.\n",
      " -1200. -1200. -1200. -1200. -1200. -1200. -1200. -1200. -1200. -1200.\n",
      " -1200. -1200. -1200. -1200. -1200. -1200. -1200. -1200. -1200. -1200.\n",
      " -1200. -1200. -1200. -1200. -1200. -1200. -1200. -1200. -1200. -1200.\n",
      "     0.     0.     0.     0.     0.     0.     0.     0.     0.     0.\n",
      "     0.     0.     0.     0.     0.     0.     0.     0.     0.     0.]\n"
     ]
    }
   ],
   "source": [
    "print(_data_indexes - _timestamps)"
   ]
  },
  {
   "cell_type": "code",
   "execution_count": 18,
   "metadata": {},
   "outputs": [],
   "source": [
    "coin_data = coin_data.reindex(range(coin_data.index[0],coin_data.index[-1]+60,60),method='pad')"
   ]
  },
  {
   "cell_type": "code",
   "execution_count": 21,
   "metadata": {},
   "outputs": [
    {
     "name": "stdout",
     "output_type": "stream",
     "text": [
      "1632182340\n",
      "1632182400\n"
     ]
    }
   ],
   "source": [
    "for i in range(end-60, end+60, 60):\n",
    "    print(i)"
   ]
  },
  {
   "cell_type": "code",
   "execution_count": null,
   "metadata": {},
   "outputs": [],
   "source": []
  }
 ],
 "metadata": {
  "interpreter": {
   "hash": "78e4490c75178d87f6a35f9554b58c81e1bbe086f971a7ab26df21199f6084fd"
  },
  "kernelspec": {
   "display_name": "Python 3.9.7 64-bit ('.venv': poetry)",
   "name": "python3"
  },
  "language_info": {
   "codemirror_mode": {
    "name": "ipython",
    "version": 3
   },
   "file_extension": ".py",
   "mimetype": "text/x-python",
   "name": "python",
   "nbconvert_exporter": "python",
   "pygments_lexer": "ipython3",
   "version": "3.9.7"
  },
  "orig_nbformat": 4
 },
 "nbformat": 4,
 "nbformat_minor": 2
}
