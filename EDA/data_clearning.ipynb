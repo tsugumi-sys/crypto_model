{
 "cells": [
  {
   "cell_type": "code",
   "execution_count": 5,
   "metadata": {},
   "outputs": [],
   "source": [
    "import pandas as pd\n",
    "import sys\n",
    "import mlflow\n",
    "import os\n",
    "\n",
    "sys.path.append(\"..\")\n",
    "from common.constants import DATAFOLDER, ASSET_INFO\n",
    "from preprocess.src.extract_data import splitted_data_timestamps"
   ]
  },
  {
   "cell_type": "code",
   "execution_count": 6,
   "metadata": {},
   "outputs": [
    {
     "name": "stdout",
     "output_type": "stream",
     "text": [
      "0 326160\n",
      "1 326160\n",
      "2 326160\n",
      "3 326160\n",
      "4 326160\n",
      "5 326160\n"
     ]
    }
   ],
   "source": [
    "def splitted_data_index(n_splits: int, asset_name: str, asset_id: int):\n",
    "    data = pd.read_parquet(os.path.join(\"../data/\", f\"{asset_name}.parquet.gzip\"), engine=\"pyarrow\")\n",
    "    \n",
    "    _timestamps = data.index.values\n",
    "    split_length = len(_timestamps) // n_splits\n",
    "\n",
    "    splitted_timestamps = {}\n",
    "    first_timestamps = 0\n",
    "    for i in range(split_length, len(_timestamps), split_length):\n",
    "        splitted_timestamps[i // split_length - 1] = _timestamps[first_timestamps:i]\n",
    "        first_timestamps = i\n",
    "    splitted_timestamps[len(_timestamps)//split_length - 1] = _timestamps[first_timestamps:]\n",
    "    return {\"asset_name\": asset_name, \"asset_id\": asset_id, \"splitted_indexes\": splitted_timestamps}\n",
    "\n",
    "\n",
    "res = splitted_data_index(n_splits=6, asset_name=\"Bitcoin\", asset_id=1)\n",
    "_timestamps = res[\"splitted_indexes\"]\n",
    "\n",
    "for key in _timestamps.keys():\n",
    "    item = _timestamps[key]\n",
    "    print(key, len(item))"
   ]
  },
  {
   "cell_type": "code",
   "execution_count": 155,
   "metadata": {},
   "outputs": [
    {
     "name": "stdout",
     "output_type": "stream",
     "text": [
      "{0: {'train': [2, 3, 4, 5], 'valid': [0, 1]}, 1: {'train': [1, 3, 4, 5], 'valid': [2]}, 2: {'train': [1, 2, 4, 5], 'valid': [3]}, 3: {'train': [1, 2, 3, 5], 'valid': [4]}, 4: {'train': [1, 2, 3, 4], 'valid': [5]}}\n",
      "{0: {'train': [1, 3, 4, 5], 'valid': [0, 2]}, 1: {'train': [0, 3, 4, 5], 'valid': [1]}, 2: {'train': [0, 2, 4, 5], 'valid': [3]}, 3: {'train': [0, 2, 3, 5], 'valid': [4]}, 4: {'train': [0, 2, 3, 4], 'valid': [5]}}\n",
      "{0: {'train': [1, 2, 4, 5], 'valid': [0, 3]}, 1: {'train': [0, 2, 4, 5], 'valid': [1]}, 2: {'train': [0, 1, 4, 5], 'valid': [2]}, 3: {'train': [0, 1, 3, 5], 'valid': [4]}, 4: {'train': [0, 1, 3, 4], 'valid': [5]}}\n",
      "{0: {'train': [1, 2, 3, 5], 'valid': [0, 4]}, 1: {'train': [0, 2, 3, 5], 'valid': [1]}, 2: {'train': [0, 1, 3, 5], 'valid': [2]}, 3: {'train': [0, 1, 2, 5], 'valid': [3]}, 4: {'train': [0, 1, 2, 4], 'valid': [5]}}\n",
      "{0: {'train': [1, 2, 3, 4], 'valid': [0, 5]}, 1: {'train': [0, 2, 3, 4], 'valid': [1]}, 2: {'train': [0, 1, 3, 4], 'valid': [2]}, 3: {'train': [0, 1, 2, 4], 'valid': [3]}, 4: {'train': [0, 1, 2, 3], 'valid': [4]}}\n"
     ]
    }
   ],
   "source": [
    "import itertools\n",
    "import numpy as np\n",
    "\n",
    "folds = list(res[\"splitted_indexes\"].keys())\n",
    "n_folds = len(folds)\n",
    "n_test_folds = 2\n",
    "\n",
    "selected_fold_bounds = list(itertools.combinations(folds, n_test_folds))\n",
    "\n",
    "n_splits = 6\n",
    "num_senarios = int(len(selected_fold_bounds) / (n_splits/n_test_folds))\n",
    "\n",
    "cpcv_indexes = []\n",
    "for i in range(num_senarios):\n",
    "    _jump_indexes = list(range(num_senarios-1, 0, -1))[:i]\n",
    "    \n",
    "    while len(_jump_indexes) < num_senarios - 1:\n",
    "        _jump_indexes.append(1)\n",
    "\n",
    "    test_folds_indexes = []\n",
    "    test_folds_indexes.append(i)\n",
    "    for jump_idx, jump_val in enumerate(_jump_indexes):\n",
    "        test_folds_indexes.append(test_folds_indexes[jump_idx]+jump_val)\n",
    "    \n",
    "    _senario = {}\n",
    "    _checked_valid_fold_indexes = []\n",
    "    for idx, test_fold_index in enumerate(test_folds_indexes):\n",
    "        _senario[idx] = {\"train\": [], \"valid\": []}\n",
    "\n",
    "        for valid_fold_idx in selected_fold_bounds[test_fold_index]:\n",
    "            if valid_fold_idx not in _checked_valid_fold_indexes:\n",
    "                _senario[idx][\"valid\"].append(valid_fold_idx)\n",
    "                _checked_valid_fold_indexes.append(valid_fold_idx)\n",
    "\n",
    "        _senario[idx][\"train\"] += [v for v in range(n_folds) if v not in selected_fold_bounds[test_fold_index]]\n",
    "    print(_senario)\n",
    "    cpcv_indexes.append(_senario)\n",
    "        \n"
   ]
  },
  {
   "cell_type": "code",
   "execution_count": 157,
   "metadata": {},
   "outputs": [
    {
     "name": "stdout",
     "output_type": "stream",
     "text": [
      "==========\n",
      "x x o o o o\n",
      "x o x o o o\n",
      "x o o x o o\n",
      "x o o o x o\n",
      "x o o o o x\n",
      "==========\n",
      "x o x o o o\n",
      "o x x o o o\n",
      "o x o x o o\n",
      "o x o o x o\n",
      "o x o o o x\n",
      "==========\n",
      "x o o x o o\n",
      "o x o x o o\n",
      "o o x x o o\n",
      "o o x o x o\n",
      "o o x o o x\n",
      "==========\n",
      "x o o o x o\n",
      "o x o o x o\n",
      "o o x o x o\n",
      "o o o x x o\n",
      "o o o x o x\n",
      "==========\n",
      "x o o o o x\n",
      "o x o o o x\n",
      "o o x o o x\n",
      "o o o x o x\n",
      "o o o o x x\n"
     ]
    }
   ],
   "source": [
    "cpcv_folds = cpcv_indexes\n",
    "for cpcv_fold in cpcv_folds:\n",
    "    print(\"=\"*10)\n",
    "    for key in cpcv_fold.keys():\n",
    "        o_x = [\"x\" for _ in range(n_folds)]\n",
    "        for train_idx in cpcv_fold[key][\"train\"]:\n",
    "            o_x[train_idx] = \"o\"\n",
    "        for valid_idx in cpcv_fold[key][\"valid\"]:\n",
    "            o_x[valid_idx] = \"x\"\n",
    "        print(*o_x)"
   ]
  },
  {
   "cell_type": "code",
   "execution_count": 192,
   "metadata": {},
   "outputs": [],
   "source": [
    "import itertools\n",
    "import numpy as np\n",
    "\n",
    "folds = list(res[\"splitted_indexes\"].keys())\n",
    "n_folds = len(folds)\n",
    "n_test_folds = 2\n",
    "\n",
    "selected_fold_bounds = list(itertools.combinations(folds, n_test_folds))\n",
    "\n",
    "num_senarios = int(len(selected_fold_bounds) / (n_folds/n_test_folds))\n",
    "\n",
    "cpcv_folds = []\n",
    "for i in range(num_senarios):\n",
    "    _jump_folds = list(range(num_senarios-1, 0, -1))[:i]\n",
    "    \n",
    "    while len(_jump_folds) < num_senarios - 1:\n",
    "        _jump_folds.append(1)\n",
    "\n",
    "    test_folds = []\n",
    "    test_folds.append(i)\n",
    "    for jump_idx, jump_val in enumerate(_jump_folds):\n",
    "        test_folds.append(test_folds[jump_idx]+jump_val)\n",
    "\n",
    "    if i == num_senarios - 1:\n",
    "        # flip left-right side\n",
    "        _senario = {}\n",
    "        for key in list(cpcv_folds[0].keys())[::-1]:\n",
    "            _senario[num_senarios - 1 - key] = {\"train\": [], \"valid\": [], \"test\": []}\n",
    "            for _type in [\"train\", \"valid\", \"test\"]:\n",
    "                _senario[num_senarios - 1 - key][_type] = [n_folds - 1 - x for x in cpcv_folds[0][key][_type]]      \n",
    "        cpcv_folds.append(_senario)\n",
    "    else:\n",
    "        _senario = {}\n",
    "        _selected_valid_folds = []\n",
    "        _selected_test_folds = []\n",
    "        for sub_senario_idx, test_fold in enumerate(test_folds):\n",
    "            _senario[sub_senario_idx] = {\"train\": [], \"valid\": [], \"test\": []}\n",
    "\n",
    "            # select valid set.\n",
    "            for valid_fold in selected_fold_bounds[test_fold]:\n",
    "                if valid_fold not in _selected_valid_folds:\n",
    "                    _senario[sub_senario_idx][\"valid\"].append(valid_fold)\n",
    "                    _selected_valid_folds.append(valid_fold)\n",
    "\n",
    "            # select test set.\n",
    "            top_valid_fold = sorted(selected_fold_bounds[test_fold])[::-1][0]\n",
    "            _test_fold = top_valid_fold + 1 if top_valid_fold < num_senarios else 0\n",
    "            while True:\n",
    "                if _test_fold not in selected_fold_bounds[test_fold] and _test_fold not in _selected_test_folds:\n",
    "                    _senario[sub_senario_idx][\"test\"].append(_test_fold)\n",
    "                    _selected_test_folds.append(_test_fold)\n",
    "                    break\n",
    "                _test_fold += 1\n",
    "                if _test_fold > num_senarios:\n",
    "                    _test_fold = 0\n",
    "\n",
    "            # select train set.\n",
    "            _selected_folds = [_test_fold]\n",
    "            _selected_folds += selected_fold_bounds[test_fold]\n",
    "            _senario[sub_senario_idx][\"train\"] += [v for v in range(n_folds) if v not in _selected_folds]\n",
    "        cpcv_folds.append(_senario)\n",
    "        \n"
   ]
  },
  {
   "cell_type": "code",
   "execution_count": 193,
   "metadata": {},
   "outputs": [
    {
     "name": "stdout",
     "output_type": "stream",
     "text": [
      "==========\n",
      "x x x x x\n",
      "x o o o v\n",
      "v x o o o\n",
      "o v x o o\n",
      "o o v x o\n",
      "o o o v x\n",
      "==========\n",
      "x o o v o\n",
      "o x x x x\n",
      "x x o o v\n",
      "v o x o o\n",
      "o v o x o\n",
      "o o v o x\n",
      "==========\n",
      "x o v o o\n",
      "o x o v o\n",
      "o o x x x\n",
      "x x x o v\n",
      "v o o x o\n",
      "o v o o x\n",
      "==========\n",
      "x v o o o\n",
      "o x v o o\n",
      "o o x v o\n",
      "o o o x x\n",
      "x x x x v\n",
      "v o o o x\n",
      "==========\n",
      "x v o o o\n",
      "o x v o o\n",
      "o o x v o\n",
      "o o o x v\n",
      "v o o o x\n",
      "x x x x x\n"
     ]
    }
   ],
   "source": [
    "for cpcv_fold in cpcv_folds:\n",
    "    print(\"=\"*10)\n",
    "    arrs = []\n",
    "    for key in cpcv_fold.keys():\n",
    "        o_x = [\"x\" for _ in range(n_folds)]\n",
    "        for train_idx in cpcv_fold[key][\"train\"]:\n",
    "            o_x[train_idx] = \"o\"\n",
    "        for valid_idx in cpcv_fold[key][\"valid\"]:\n",
    "            o_x[valid_idx] = \"x\"\n",
    "\n",
    "        for test_idx in cpcv_fold[key][\"test\"]:\n",
    "            o_x[test_idx] = \"v\"\n",
    "\n",
    "        arrs.append(o_x)\n",
    "    \n",
    "    for i in range(6):\n",
    "        l = [arrs[v][i] for v in range(5)]\n",
    "        print(*l)"
   ]
  },
  {
   "cell_type": "code",
   "execution_count": 11,
   "metadata": {},
   "outputs": [
    {
     "name": "stdout",
     "output_type": "stream",
     "text": [
      "[    0.     0.     0.     0.     0.     0.     0.     0.     0.     0.\n",
      "     0.     0.     0.     0.     0.     0.     0.     0.     0.     0.\n",
      " -1200. -1200. -1200. -1200. -1200. -1200. -1200. -1200. -1200. -1200.\n",
      " -1200. -1200. -1200. -1200. -1200. -1200. -1200. -1200. -1200. -1200.\n",
      " -1200. -1200. -1200. -1200. -1200. -1200. -1200. -1200. -1200. -1200.\n",
      " -1200. -1200. -1200. -1200. -1200. -1200. -1200. -1200. -1200. -1200.\n",
      " -1200. -1200. -1200. -1200. -1200. -1200. -1200. -1200. -1200. -1200.\n",
      " -1200. -1200. -1200. -1200. -1200. -1200. -1200. -1200. -1200. -1200.\n",
      "     0.     0.     0.     0.     0.     0.     0.     0.     0.     0.\n",
      "     0.     0.     0.     0.     0.     0.     0.     0.     0.     0.]\n"
     ]
    }
   ],
   "source": [
    "print(_data_indexes - _timestamps)"
   ]
  },
  {
   "cell_type": "code",
   "execution_count": 18,
   "metadata": {},
   "outputs": [],
   "source": [
    "coin_data = coin_data.reindex(range(coin_data.index[0],coin_data.index[-1]+60,60),method='pad')"
   ]
  },
  {
   "cell_type": "code",
   "execution_count": 21,
   "metadata": {},
   "outputs": [
    {
     "name": "stdout",
     "output_type": "stream",
     "text": [
      "1632182340\n",
      "1632182400\n"
     ]
    }
   ],
   "source": [
    "for i in range(end-60, end+60, 60):\n",
    "    print(i)"
   ]
  },
  {
   "cell_type": "code",
   "execution_count": null,
   "metadata": {},
   "outputs": [],
   "source": []
  }
 ],
 "metadata": {
  "interpreter": {
   "hash": "78e4490c75178d87f6a35f9554b58c81e1bbe086f971a7ab26df21199f6084fd"
  },
  "kernelspec": {
   "display_name": "Python 3.9.7 64-bit ('.venv': poetry)",
   "name": "python3"
  },
  "language_info": {
   "codemirror_mode": {
    "name": "ipython",
    "version": 3
   },
   "file_extension": ".py",
   "mimetype": "text/x-python",
   "name": "python",
   "nbconvert_exporter": "python",
   "pygments_lexer": "ipython3",
   "version": "3.9.7"
  },
  "orig_nbformat": 4
 },
 "nbformat": 4,
 "nbformat_minor": 2
}
