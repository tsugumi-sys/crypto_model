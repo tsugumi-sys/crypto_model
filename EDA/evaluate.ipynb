{
 "cells": [
  {
   "cell_type": "code",
   "execution_count": 24,
   "metadata": {},
   "outputs": [
    {
     "name": "stdout",
     "output_type": "stream",
     "text": [
      "1514764860 1632182400\n",
      "1514764860 1632182400\n",
      "1514764860 1632182400\n",
      "1514764860 1632182400\n",
      "1514764860 1632182400\n"
     ]
    }
   ],
   "source": [
    "import os\n",
    "import pandas as pd\n",
    "import matplotlib.pyplot as plt\n",
    "import seaborn as sns\n",
    "\n",
    "dir_name = \"../data/evaluate/Bitcoin/\"\n",
    "senarios = os.listdir(dir_name)\n",
    "folds = {}\n",
    "\n",
    "for s in senarios:\n",
    "    filenames = os.listdir(os.path.join(dir_name, s))\n",
    "    filenames.sort()\n",
    "    folds[s] = filenames\n",
    "\n",
    "for s in senarios:\n",
    "    df = pd.DataFrame()\n",
    "    for f in folds[s]:\n",
    "        _df = pd.read_parquet(os.path.join(dir_name, s, f), engine=\"pyarrow\")\n",
    "        df = df.append(_df)\n",
    "\n",
    "    print(df.index[0], df.index[-1])"
   ]
  },
  {
   "cell_type": "code",
   "execution_count": 26,
   "metadata": {},
   "outputs": [
    {
     "data": {
      "text/html": [
       "<div>\n",
       "<style scoped>\n",
       "    .dataframe tbody tr th:only-of-type {\n",
       "        vertical-align: middle;\n",
       "    }\n",
       "\n",
       "    .dataframe tbody tr th {\n",
       "        vertical-align: top;\n",
       "    }\n",
       "\n",
       "    .dataframe thead th {\n",
       "        text-align: right;\n",
       "    }\n",
       "</style>\n",
       "<table border=\"1\" class=\"dataframe\">\n",
       "  <thead>\n",
       "    <tr style=\"text-align: right;\">\n",
       "      <th></th>\n",
       "      <th>Open</th>\n",
       "      <th>High</th>\n",
       "      <th>Low</th>\n",
       "      <th>Close</th>\n",
       "      <th>Volume</th>\n",
       "      <th>sma20</th>\n",
       "      <th>target</th>\n",
       "      <th>predict</th>\n",
       "    </tr>\n",
       "  </thead>\n",
       "  <tbody>\n",
       "    <tr>\n",
       "      <th>count</th>\n",
       "      <td>1.956960e+06</td>\n",
       "      <td>1.956960e+06</td>\n",
       "      <td>1.956960e+06</td>\n",
       "      <td>1.956960e+06</td>\n",
       "      <td>1.956960e+06</td>\n",
       "      <td>1.956960e+06</td>\n",
       "      <td>1.956960e+06</td>\n",
       "      <td>1.956960e+06</td>\n",
       "    </tr>\n",
       "    <tr>\n",
       "      <th>mean</th>\n",
       "      <td>1.560868e+04</td>\n",
       "      <td>1.564936e+04</td>\n",
       "      <td>1.557561e+04</td>\n",
       "      <td>1.560868e+04</td>\n",
       "      <td>9.282028e+01</td>\n",
       "      <td>9.992031e-01</td>\n",
       "      <td>9.999969e-01</td>\n",
       "      <td>9.999975e-01</td>\n",
       "    </tr>\n",
       "    <tr>\n",
       "      <th>std</th>\n",
       "      <td>1.511957e+04</td>\n",
       "      <td>1.513020e+04</td>\n",
       "      <td>1.510443e+04</td>\n",
       "      <td>1.511960e+04</td>\n",
       "      <td>1.553879e+02</td>\n",
       "      <td>3.070064e-03</td>\n",
       "      <td>1.750992e-03</td>\n",
       "      <td>2.686173e-07</td>\n",
       "    </tr>\n",
       "    <tr>\n",
       "      <th>min</th>\n",
       "      <td>3.149657e+03</td>\n",
       "      <td>3.176910e+03</td>\n",
       "      <td>3.120000e+03</td>\n",
       "      <td>3.151545e+03</td>\n",
       "      <td>1.000000e-04</td>\n",
       "      <td>8.512298e-01</td>\n",
       "      <td>0.000000e+00</td>\n",
       "      <td>9.999975e-01</td>\n",
       "    </tr>\n",
       "    <tr>\n",
       "      <th>25%</th>\n",
       "      <td>6.849088e+03</td>\n",
       "      <td>6.866385e+03</td>\n",
       "      <td>6.836593e+03</td>\n",
       "      <td>6.849044e+03</td>\n",
       "      <td>3.018709e+01</td>\n",
       "      <td>9.987367e-01</td>\n",
       "      <td>1.000000e+00</td>\n",
       "      <td>9.999975e-01</td>\n",
       "    </tr>\n",
       "    <tr>\n",
       "      <th>50%</th>\n",
       "      <td>9.204972e+03</td>\n",
       "      <td>9.221200e+03</td>\n",
       "      <td>9.190260e+03</td>\n",
       "      <td>9.204930e+03</td>\n",
       "      <td>5.278533e+01</td>\n",
       "      <td>9.997243e-01</td>\n",
       "      <td>1.000000e+00</td>\n",
       "      <td>9.999975e-01</td>\n",
       "    </tr>\n",
       "    <tr>\n",
       "      <th>75%</th>\n",
       "      <td>1.345962e+04</td>\n",
       "      <td>1.351634e+04</td>\n",
       "      <td>1.339346e+04</td>\n",
       "      <td>1.346031e+04</td>\n",
       "      <td>9.765168e+01</td>\n",
       "      <td>1.000491e+00</td>\n",
       "      <td>1.000000e+00</td>\n",
       "      <td>9.999975e-01</td>\n",
       "    </tr>\n",
       "    <tr>\n",
       "      <th>max</th>\n",
       "      <td>6.480594e+04</td>\n",
       "      <td>6.490000e+04</td>\n",
       "      <td>6.467053e+04</td>\n",
       "      <td>6.480854e+04</td>\n",
       "      <td>1.040500e+04</td>\n",
       "      <td>1.164459e+00</td>\n",
       "      <td>1.000000e+00</td>\n",
       "      <td>1.000000e+00</td>\n",
       "    </tr>\n",
       "  </tbody>\n",
       "</table>\n",
       "</div>"
      ],
      "text/plain": [
       "               Open          High           Low         Close        Volume  \\\n",
       "count  1.956960e+06  1.956960e+06  1.956960e+06  1.956960e+06  1.956960e+06   \n",
       "mean   1.560868e+04  1.564936e+04  1.557561e+04  1.560868e+04  9.282028e+01   \n",
       "std    1.511957e+04  1.513020e+04  1.510443e+04  1.511960e+04  1.553879e+02   \n",
       "min    3.149657e+03  3.176910e+03  3.120000e+03  3.151545e+03  1.000000e-04   \n",
       "25%    6.849088e+03  6.866385e+03  6.836593e+03  6.849044e+03  3.018709e+01   \n",
       "50%    9.204972e+03  9.221200e+03  9.190260e+03  9.204930e+03  5.278533e+01   \n",
       "75%    1.345962e+04  1.351634e+04  1.339346e+04  1.346031e+04  9.765168e+01   \n",
       "max    6.480594e+04  6.490000e+04  6.467053e+04  6.480854e+04  1.040500e+04   \n",
       "\n",
       "              sma20        target       predict  \n",
       "count  1.956960e+06  1.956960e+06  1.956960e+06  \n",
       "mean   9.992031e-01  9.999969e-01  9.999975e-01  \n",
       "std    3.070064e-03  1.750992e-03  2.686173e-07  \n",
       "min    8.512298e-01  0.000000e+00  9.999975e-01  \n",
       "25%    9.987367e-01  1.000000e+00  9.999975e-01  \n",
       "50%    9.997243e-01  1.000000e+00  9.999975e-01  \n",
       "75%    1.000491e+00  1.000000e+00  9.999975e-01  \n",
       "max    1.164459e+00  1.000000e+00  1.000000e+00  "
      ]
     },
     "execution_count": 26,
     "metadata": {},
     "output_type": "execute_result"
    }
   ],
   "source": [
    "df.describe()"
   ]
  },
  {
   "cell_type": "code",
   "execution_count": 30,
   "metadata": {},
   "outputs": [
    {
     "data": {
      "text/plain": [
       "timestamp\n",
       "1514764860   NaN\n",
       "1514764920   NaN\n",
       "1514764980   NaN\n",
       "1514765040   NaN\n",
       "1514765100   NaN\n",
       "dtype: float64"
      ]
     },
     "execution_count": 30,
     "metadata": {},
     "output_type": "execute_result"
    }
   ],
   "source": [
    "import numpy as np\n",
    "\n",
    "high_low = df[\"High\"] - df[\"Low\"]\n",
    "high_close = np.abs(df[\"High\"] - df[\"Close\"].shift())\n",
    "low_close = np.abs(df[\"Low\"] - df[\"Close\"].shift())\n",
    "ranges = pd.concat([high_low, high_close, low_close], axis=1)\n",
    "tr = np.max(ranges, axis=1)\n",
    "atr = tr.rolling(14).sum() / 14\n",
    "atr.head()"
   ]
  },
  {
   "cell_type": "code",
   "execution_count": 43,
   "metadata": {},
   "outputs": [
    {
     "data": {
      "text/plain": [
       "timestamp\n",
       "1514764860           NaN\n",
       "1514764920           NaN\n",
       "1514764980           NaN\n",
       "1514765040           NaN\n",
       "1514765100           NaN\n",
       "                 ...    \n",
       "1632182160    106.354346\n",
       "1632182220    104.562203\n",
       "1632182280    102.780775\n",
       "1632182340    112.655061\n",
       "1632182400    108.289346\n",
       "Length: 1956960, dtype: float64"
      ]
     },
     "execution_count": 43,
     "metadata": {},
     "output_type": "execute_result"
    }
   ],
   "source": [
    "pips = 0.5\n",
    "limit_price_dist = atr * 0.5\n",
    "# limit_price_dist = np.maximum(1, (limit_price_dist / pips).round().fillna(1)) * pips\n",
    "limit_price_dist / pips"
   ]
  },
  {
   "cell_type": "code",
   "execution_count": 46,
   "metadata": {},
   "outputs": [
    {
     "name": "stdout",
     "output_type": "stream",
     "text": [
      "0.5\n"
     ]
    },
    {
     "data": {
      "text/plain": [
       "timestamp\n",
       "1514764860     0.5\n",
       "1514764920     0.5\n",
       "1514764980     0.5\n",
       "1514765040     0.5\n",
       "1514765100     0.5\n",
       "              ... \n",
       "1632182160    53.0\n",
       "1632182220    52.5\n",
       "1632182280    51.5\n",
       "1632182340    56.5\n",
       "1632182400    54.0\n",
       "Length: 1956960, dtype: float64"
      ]
     },
     "execution_count": 46,
     "metadata": {},
     "output_type": "execute_result"
    }
   ],
   "source": [
    "limit_price_dist = np.maximum(1, (limit_price_dist / pips).round().fillna(1)) * pips\n",
    "limit_price_dist"
   ]
  },
  {
   "cell_type": "code",
   "execution_count": null,
   "metadata": {},
   "outputs": [],
   "source": []
  },
  {
   "cell_type": "code",
   "execution_count": null,
   "metadata": {},
   "outputs": [],
   "source": []
  }
 ],
 "metadata": {
  "interpreter": {
   "hash": "78e4490c75178d87f6a35f9554b58c81e1bbe086f971a7ab26df21199f6084fd"
  },
  "kernelspec": {
   "display_name": "Python 3.9.7 64-bit ('.venv': poetry)",
   "language": "python",
   "name": "python3"
  },
  "language_info": {
   "codemirror_mode": {
    "name": "ipython",
    "version": 3
   },
   "file_extension": ".py",
   "mimetype": "text/x-python",
   "name": "python",
   "nbconvert_exporter": "python",
   "pygments_lexer": "ipython3",
   "version": "3.9.7"
  },
  "orig_nbformat": 4
 },
 "nbformat": 4,
 "nbformat_minor": 2
}
