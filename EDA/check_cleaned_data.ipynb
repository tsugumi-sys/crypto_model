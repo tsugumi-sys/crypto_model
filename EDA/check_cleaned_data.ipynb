{
 "cells": [
  {
   "cell_type": "code",
   "execution_count": 1,
   "metadata": {},
   "outputs": [],
   "source": [
    "import pandas as pd\n",
    "import sys\n",
    "\n",
    "sys.path.append(\"..\")\n",
    "from common.constants import DATAFOLDER, COINNAMES\n",
    "\n",
    "coin_names = COINNAMES.coin_names()\n",
    "cleaned_data_folder = DATAFOLDER.cleaned_data_root_path"
   ]
  },
  {
   "cell_type": "code",
   "execution_count": 3,
   "metadata": {},
   "outputs": [
    {
     "data": {
      "text/html": [
       "<div>\n",
       "<style scoped>\n",
       "    .dataframe tbody tr th:only-of-type {\n",
       "        vertical-align: middle;\n",
       "    }\n",
       "\n",
       "    .dataframe tbody tr th {\n",
       "        vertical-align: top;\n",
       "    }\n",
       "\n",
       "    .dataframe thead th {\n",
       "        text-align: right;\n",
       "    }\n",
       "</style>\n",
       "<table border=\"1\" class=\"dataframe\">\n",
       "  <thead>\n",
       "    <tr style=\"text-align: right;\">\n",
       "      <th></th>\n",
       "      <th>Open</th>\n",
       "      <th>High</th>\n",
       "      <th>Low</th>\n",
       "      <th>Close</th>\n",
       "      <th>Volume</th>\n",
       "      <th>CloseTime</th>\n",
       "      <th>QuoteAssetVolume</th>\n",
       "      <th>NumberOfTrades</th>\n",
       "      <th>TakerBuyBaseAssetVolume</th>\n",
       "      <th>TakerBuyQuoteAssetVolume</th>\n",
       "      <th>Ignore</th>\n",
       "    </tr>\n",
       "    <tr>\n",
       "      <th>OpenTime</th>\n",
       "      <th></th>\n",
       "      <th></th>\n",
       "      <th></th>\n",
       "      <th></th>\n",
       "      <th></th>\n",
       "      <th></th>\n",
       "      <th></th>\n",
       "      <th></th>\n",
       "      <th></th>\n",
       "      <th></th>\n",
       "      <th></th>\n",
       "    </tr>\n",
       "  </thead>\n",
       "  <tbody>\n",
       "    <tr>\n",
       "      <th>1502942400</th>\n",
       "      <td>4261.48</td>\n",
       "      <td>4280.56</td>\n",
       "      <td>4261.48</td>\n",
       "      <td>4261.48</td>\n",
       "      <td>2.189061</td>\n",
       "      <td>1502943299999</td>\n",
       "      <td>9333.620962</td>\n",
       "      <td>9</td>\n",
       "      <td>0.489061</td>\n",
       "      <td>2089.104962</td>\n",
       "      <td>7958.417415</td>\n",
       "    </tr>\n",
       "    <tr>\n",
       "      <th>1502943300</th>\n",
       "      <td>4261.48</td>\n",
       "      <td>4270.41</td>\n",
       "      <td>4261.32</td>\n",
       "      <td>4261.45</td>\n",
       "      <td>9.119865</td>\n",
       "      <td>1502944199999</td>\n",
       "      <td>38891.133046</td>\n",
       "      <td>40</td>\n",
       "      <td>3.447113</td>\n",
       "      <td>14703.934995</td>\n",
       "      <td>7922.579933</td>\n",
       "    </tr>\n",
       "    <tr>\n",
       "      <th>1502944200</th>\n",
       "      <td>4280.00</td>\n",
       "      <td>4310.07</td>\n",
       "      <td>4267.99</td>\n",
       "      <td>4310.07</td>\n",
       "      <td>21.923552</td>\n",
       "      <td>1502945099999</td>\n",
       "      <td>94080.917568</td>\n",
       "      <td>58</td>\n",
       "      <td>20.421317</td>\n",
       "      <td>87620.977876</td>\n",
       "      <td>7912.494217</td>\n",
       "    </tr>\n",
       "    <tr>\n",
       "      <th>1502945100</th>\n",
       "      <td>4310.07</td>\n",
       "      <td>4313.62</td>\n",
       "      <td>4291.37</td>\n",
       "      <td>4308.83</td>\n",
       "      <td>13.948531</td>\n",
       "      <td>1502945999999</td>\n",
       "      <td>60060.466816</td>\n",
       "      <td>64</td>\n",
       "      <td>10.803012</td>\n",
       "      <td>46538.460109</td>\n",
       "      <td>7887.635513</td>\n",
       "    </tr>\n",
       "    <tr>\n",
       "      <th>1502946000</th>\n",
       "      <td>4308.83</td>\n",
       "      <td>4328.69</td>\n",
       "      <td>4304.31</td>\n",
       "      <td>4304.31</td>\n",
       "      <td>5.101153</td>\n",
       "      <td>1502946899999</td>\n",
       "      <td>22006.533111</td>\n",
       "      <td>44</td>\n",
       "      <td>3.496635</td>\n",
       "      <td>15093.783057</td>\n",
       "      <td>7865.654419</td>\n",
       "    </tr>\n",
       "  </tbody>\n",
       "</table>\n",
       "</div>"
      ],
      "text/plain": [
       "               Open     High      Low    Close     Volume      CloseTime  \\\n",
       "OpenTime                                                                   \n",
       "1502942400  4261.48  4280.56  4261.48  4261.48   2.189061  1502943299999   \n",
       "1502943300  4261.48  4270.41  4261.32  4261.45   9.119865  1502944199999   \n",
       "1502944200  4280.00  4310.07  4267.99  4310.07  21.923552  1502945099999   \n",
       "1502945100  4310.07  4313.62  4291.37  4308.83  13.948531  1502945999999   \n",
       "1502946000  4308.83  4328.69  4304.31  4304.31   5.101153  1502946899999   \n",
       "\n",
       "            QuoteAssetVolume  NumberOfTrades  TakerBuyBaseAssetVolume  \\\n",
       "OpenTime                                                                \n",
       "1502942400       9333.620962               9                 0.489061   \n",
       "1502943300      38891.133046              40                 3.447113   \n",
       "1502944200      94080.917568              58                20.421317   \n",
       "1502945100      60060.466816              64                10.803012   \n",
       "1502946000      22006.533111              44                 3.496635   \n",
       "\n",
       "            TakerBuyQuoteAssetVolume       Ignore  \n",
       "OpenTime                                           \n",
       "1502942400               2089.104962  7958.417415  \n",
       "1502943300              14703.934995  7922.579933  \n",
       "1502944200              87620.977876  7912.494217  \n",
       "1502945100              46538.460109  7887.635513  \n",
       "1502946000              15093.783057  7865.654419  "
      ]
     },
     "execution_count": 3,
     "metadata": {},
     "output_type": "execute_result"
    }
   ],
   "source": [
    "import os\n",
    "df = pd.read_parquet(os.path.join(cleaned_data_folder, coin_names[0], f\"{coin_names[0]}.parquet.gzip\"), engine=\"pyarrow\")\n",
    "df.head()"
   ]
  },
  {
   "cell_type": "code",
   "execution_count": 8,
   "metadata": {},
   "outputs": [],
   "source": [
    "subt = df.index[:-1] - df.index[1:]\n",
    "# print(len(df.index[:-1]), len(df.index[1:]), len(df.index))"
   ]
  },
  {
   "cell_type": "code",
   "execution_count": 12,
   "metadata": {},
   "outputs": [
    {
     "data": {
      "text/plain": [
       "118351"
      ]
     },
     "execution_count": 12,
     "metadata": {},
     "output_type": "execute_result"
    }
   ],
   "source": [
    "import numpy as np\n",
    "np.count_nonzero(subt == -900)"
   ]
  },
  {
   "cell_type": "code",
   "execution_count": 13,
   "metadata": {},
   "outputs": [
    {
     "name": "stdout",
     "output_type": "stream",
     "text": [
      "118351\n"
     ]
    }
   ],
   "source": [
    "print(len(df[:-1]))"
   ]
  },
  {
   "cell_type": "code",
   "execution_count": 15,
   "metadata": {},
   "outputs": [
    {
     "name": "stdout",
     "output_type": "stream",
     "text": [
      "2017-08-17 04:00:00\n",
      "2020-12-31 23:45:00\n"
     ]
    }
   ],
   "source": [
    "from datetime import datetime\n",
    "\n",
    "start, end = df.index[0], df.index[-1]\n",
    "print(datetime.utcfromtimestamp(start))\n",
    "print(datetime.utcfromtimestamp(end))"
   ]
  },
  {
   "cell_type": "code",
   "execution_count": null,
   "metadata": {},
   "outputs": [],
   "source": []
  }
 ],
 "metadata": {
  "interpreter": {
   "hash": "78e4490c75178d87f6a35f9554b58c81e1bbe086f971a7ab26df21199f6084fd"
  },
  "kernelspec": {
   "display_name": "Python 3.9.7 64-bit ('.venv': poetry)",
   "language": "python",
   "name": "python3"
  },
  "language_info": {
   "codemirror_mode": {
    "name": "ipython",
    "version": 3
   },
   "file_extension": ".py",
   "mimetype": "text/x-python",
   "name": "python",
   "nbconvert_exporter": "python",
   "pygments_lexer": "ipython3",
   "version": "3.9.7"
  },
  "orig_nbformat": 4
 },
 "nbformat": 4,
 "nbformat_minor": 2
}
